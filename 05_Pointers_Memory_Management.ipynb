{
 "cells": [
  {
   "cell_type": "markdown",
   "metadata": {},
   "source": [
    "This is a *Jupyter Notebook*. You can download it and execute it in your computer, if you install *jupyter* and other requirements. Even so, it is better that you create a program with the [basic structure](https://cstopics.github.io/cstopics/programming/c-c++/1_basic_structure), and test all the code lines there.\n",
    "\n",
    "Note that if you does not include semicolon in an expression, it is going to be evaluated and its result is going to be shown. ***Be careful, this bevahior is only present in the notebook, if you does not include semicolon in real programs, the compiler will fail and show an error***."
   ]
  },
  {
   "cell_type": "markdown",
   "metadata": {},
   "source": [
    "# Pointers and Memory Management"
   ]
  },
  {
   "cell_type": "code",
   "execution_count": 1,
   "metadata": {},
   "outputs": [],
   "source": [
    "#include <iostream>"
   ]
  },
  {
   "cell_type": "markdown",
   "metadata": {},
   "source": [
    "Having a variable of any type:"
   ]
  },
  {
   "cell_type": "code",
   "execution_count": 2,
   "metadata": {},
   "outputs": [
    {
     "name": "stdout",
     "output_type": "stream",
     "text": [
      "x=24\n"
     ]
    }
   ],
   "source": [
    "int x = 24;\n",
    "std::cout << \"x=\" << x << std::endl;"
   ]
  },
  {
   "cell_type": "markdown",
   "metadata": {},
   "source": [
    "You can know the memory address when your system allocated that variable, adding the character *&* before the variable's name:"
   ]
  },
  {
   "cell_type": "code",
   "execution_count": 3,
   "metadata": {},
   "outputs": [
    {
     "name": "stdout",
     "output_type": "stream",
     "text": [
      "&x=0x7f1a9e5ab024\n"
     ]
    }
   ],
   "source": [
    "std::cout << \"&x=\" << &x << std::endl;"
   ]
  },
  {
   "cell_type": "markdown",
   "metadata": {},
   "source": [
    "You can create a type of variable, called *pointer*, that stores the address of any data of the type pointed. That type of variables are created adding the character * before the name of the pointer:"
   ]
  },
  {
   "cell_type": "code",
   "execution_count": 4,
   "metadata": {},
   "outputs": [
    {
     "name": "stdout",
     "output_type": "stream",
     "text": [
      "px=0x7f1a9e5ab024\n"
     ]
    }
   ],
   "source": [
    "int *px = &x;\n",
    "std::cout << \"px=\" << px << std::endl;"
   ]
  },
  {
   "cell_type": "markdown",
   "metadata": {},
   "source": [
    "You can access the data *addressed* by the pointer, using the * character before the name:"
   ]
  },
  {
   "cell_type": "code",
   "execution_count": 5,
   "metadata": {},
   "outputs": [
    {
     "name": "stdout",
     "output_type": "stream",
     "text": [
      "*px=35\n"
     ]
    }
   ],
   "source": [
    "*px += 11;\n",
    "std::cout << \"*px=\" << *px << std::endl;"
   ]
  },
  {
   "cell_type": "markdown",
   "metadata": {},
   "source": [
    "And you can overwrite the value of the pointer:"
   ]
  },
  {
   "cell_type": "code",
   "execution_count": 6,
   "metadata": {},
   "outputs": [
    {
     "name": "stdout",
     "output_type": "stream",
     "text": [
      "y=102\n",
      "&y=0x7f1a9e5ab030\n",
      "px=0x7f1a9e5ab030\n",
      "*px=102\n"
     ]
    }
   ],
   "source": [
    "int y = 102;\n",
    "std::cout << \"y=\" << y << std::endl;\n",
    "std::cout << \"&y=\" << &y << std::endl;\n",
    "px = &y;\n",
    "std::cout << \"px=\" << px << std::endl;\n",
    "std::cout << \"*px=\" << *px << std::endl;"
   ]
  },
  {
   "cell_type": "markdown",
   "metadata": {},
   "source": [
    "### Pointer arithmetic\n",
    "\n",
    "Remember the size of a *int*:"
   ]
  },
  {
   "cell_type": "code",
   "execution_count": 7,
   "metadata": {},
   "outputs": [
    {
     "data": {
      "text/plain": [
       "4"
      ]
     },
     "execution_count": 7,
     "metadata": {},
     "output_type": "execute_result"
    }
   ],
   "source": [
    "sizeof(int)"
   ]
  },
  {
   "cell_type": "markdown",
   "metadata": {},
   "source": [
    "Consider the next variables and their addesses in memory:"
   ]
  },
  {
   "cell_type": "code",
   "execution_count": 8,
   "metadata": {},
   "outputs": [
    {
     "name": "stdout",
     "output_type": "stream",
     "text": [
      "&a=0x7f1a9e5ab034\n",
      "&b=0x7f1a9e5ab038\n",
      "&c=0x7f1a9e5ab03c\n",
      "&d=0x7f1a9e5ab040\n"
     ]
    }
   ],
   "source": [
    "int a=21, b=42, c=85, d=12;\n",
    "std::cout << \"&a=\" << &a << std::endl;\n",
    "std::cout << \"&b=\" << &b << std::endl;\n",
    "std::cout << \"&c=\" << &c << std::endl;\n",
    "std::cout << \"&d=\" << &d << std::endl;"
   ]
  },
  {
   "cell_type": "markdown",
   "metadata": {},
   "source": [
    "When you create more than one variable, the system tries to allocate them in order. Now, let's create a pointer to the first variable:"
   ]
  },
  {
   "cell_type": "code",
   "execution_count": 9,
   "metadata": {},
   "outputs": [
    {
     "name": "stdout",
     "output_type": "stream",
     "text": [
      "pointer=0x7f1a9e5ab034\n",
      "*pointer=21\n"
     ]
    }
   ],
   "source": [
    "int *pointer = &a;\n",
    "std::cout << \"pointer=\" << pointer << std::endl;\n",
    "std::cout << \"*pointer=\" << *pointer << std::endl;"
   ]
  },
  {
   "cell_type": "markdown",
   "metadata": {},
   "source": [
    "But what happens if we add $1$ to that pointer:"
   ]
  },
  {
   "cell_type": "code",
   "execution_count": 10,
   "metadata": {},
   "outputs": [
    {
     "name": "stdout",
     "output_type": "stream",
     "text": [
      "pointer=0x7f1a9e5ab038\n",
      "*pointer=42\n"
     ]
    }
   ],
   "source": [
    "pointer = pointer + 1;\n",
    "std::cout << \"pointer=\" << pointer << std::endl;\n",
    "std::cout << \"*pointer=\" << *pointer << std::endl;"
   ]
  },
  {
   "cell_type": "markdown",
   "metadata": {},
   "source": [
    "As you can see, if you add $1$ to a pointer, it actually add $1 \\times sizeof(int)$ bytes. Likewise, if you add, for example $2$, you actually add $1 \\times sizeof(int)$ bytes:"
   ]
  },
  {
   "cell_type": "code",
   "execution_count": 11,
   "metadata": {},
   "outputs": [
    {
     "name": "stdout",
     "output_type": "stream",
     "text": [
      "pointer=0x7f1a9e5ab040\n",
      "*pointer=12\n"
     ]
    }
   ],
   "source": [
    "pointer = pointer + 2;\n",
    "std::cout << \"pointer=\" << pointer << std::endl;\n",
    "std::cout << \"*pointer=\" << *pointer << std::endl;"
   ]
  },
  {
   "cell_type": "markdown",
   "metadata": {},
   "source": [
    "You will get the same result if you do substraction:"
   ]
  },
  {
   "cell_type": "code",
   "execution_count": 12,
   "metadata": {},
   "outputs": [
    {
     "name": "stdout",
     "output_type": "stream",
     "text": [
      "pointer=0x7f1a9e5ab034\n",
      "*pointer=21\n"
     ]
    }
   ],
   "source": [
    "pointer = pointer - 3;\n",
    "std::cout << \"pointer=\" << pointer << std::endl;\n",
    "std::cout << \"*pointer=\" << *pointer << std::endl;"
   ]
  },
  {
   "cell_type": "markdown",
   "metadata": {},
   "source": [
    "### Arrays and pointers relationship\n",
    "\n",
    "Having the following array:"
   ]
  },
  {
   "cell_type": "code",
   "execution_count": 13,
   "metadata": {},
   "outputs": [],
   "source": [
    "double balance[5] = {1000.0, 2.0, 3.4, 7.0, 50.0};"
   ]
  },
  {
   "cell_type": "markdown",
   "metadata": {},
   "source": [
    "If you want to get the value of an specific element, you just need to use the operator $[]$ (that is rigth, $[]$ is really an opearator): "
   ]
  },
  {
   "cell_type": "code",
   "execution_count": 14,
   "metadata": {},
   "outputs": [
    {
     "name": "stdout",
     "output_type": "stream",
     "text": [
      "balance[2] = 1000\n",
      "balance[0] = 2\n",
      "balance[4] = 50\n"
     ]
    }
   ],
   "source": [
    "std::cout << \"balance[2] = \" << balance[0] << std::endl;\n",
    "std::cout << \"balance[0] = \" << balance[1] << std::endl;\n",
    "std::cout << \"balance[4] = \" << balance[4] << std::endl;"
   ]
  },
  {
   "cell_type": "markdown",
   "metadata": {},
   "source": [
    "And if you get the address of the elements, you will get the values according to the size of the elements (remember that $sizeof(double)=8$):"
   ]
  },
  {
   "cell_type": "code",
   "execution_count": 15,
   "metadata": {},
   "outputs": [
    {
     "name": "stdout",
     "output_type": "stream",
     "text": [
      "&balance[2] = 0x7f1a9e5ab050\n",
      "&balance[0] = 0x7f1a9e5ab058\n",
      "&balance[4] = 0x7f1a9e5ab070\n"
     ]
    }
   ],
   "source": [
    "std::cout << \"&balance[2] = \" << &balance[0] << std::endl;\n",
    "std::cout << \"&balance[0] = \" << &balance[1] << std::endl;\n",
    "std::cout << \"&balance[4] = \" << &balance[4] << std::endl;"
   ]
  },
  {
   "cell_type": "markdown",
   "metadata": {},
   "source": [
    "But what happens if you try to print only *balance*?. Or better, what does the array's name actually stores?"
   ]
  },
  {
   "cell_type": "code",
   "execution_count": 16,
   "metadata": {},
   "outputs": [
    {
     "name": "stdout",
     "output_type": "stream",
     "text": [
      "balance = 0x7f1a9e5ab050\n"
     ]
    }
   ],
   "source": [
    "std::cout << \"balance = \" << balance << std::endl;"
   ]
  },
  {
   "cell_type": "markdown",
   "metadata": {},
   "source": [
    "That means that the name of an array is a pointer to the data type of the array, in this case, *balance* is a pointer to *double*. And when you do:"
   ]
  },
  {
   "cell_type": "code",
   "execution_count": 17,
   "metadata": {},
   "outputs": [
    {
     "data": {
      "text/plain": [
       "7"
      ]
     },
     "execution_count": 17,
     "metadata": {},
     "output_type": "execute_result"
    }
   ],
   "source": [
    "balance[3]"
   ]
  },
  {
   "cell_type": "markdown",
   "metadata": {},
   "source": [
    "What you are really doing is:"
   ]
  },
  {
   "cell_type": "code",
   "execution_count": 18,
   "metadata": {},
   "outputs": [
    {
     "data": {
      "text/plain": [
       "7"
      ]
     },
     "execution_count": 18,
     "metadata": {},
     "output_type": "execute_result"
    }
   ],
   "source": [
    "*(balance+3)"
   ]
  },
  {
   "cell_type": "markdown",
   "metadata": {},
   "source": [
    "### Allocating Memory Dynamically\n",
    "\n",
    "It is usually needed that your program creates arrays dynamically, it means, they are created when program is running (in *runtime*). In C++, this process is performed by the *new* operand.\n",
    "\n",
    "Supuse you have a variable *N*, that stores the size of an double array that you need to create (this value could come from another function, and command line argument, a message from other process, etc.)"
   ]
  },
  {
   "cell_type": "code",
   "execution_count": 19,
   "metadata": {},
   "outputs": [],
   "source": [
    "int N = 284;"
   ]
  },
  {
   "cell_type": "markdown",
   "metadata": {},
   "source": [
    "You need to ask the OS to find a section of memory where N (*284*) doubles fit, so the OS find it, and returns to your program the memory address where it reserved the space. Then, you must save that address in a pointer to *double*:"
   ]
  },
  {
   "cell_type": "code",
   "execution_count": 20,
   "metadata": {},
   "outputs": [],
   "source": [
    "double *allocatedArray = new double [N];"
   ]
  },
  {
   "cell_type": "markdown",
   "metadata": {},
   "source": [
    "Now, we can use *allocatedArray* as an array, and you can initialize it (remember that OS find a section of free memory, but it does not guarantee the memory is clean, it will be full of garbage), and process your data as you want:"
   ]
  },
  {
   "cell_type": "code",
   "execution_count": 21,
   "metadata": {},
   "outputs": [],
   "source": [
    "for(int i=0; i<N; i++){\n",
    "    allocatedArray[i] = 0;\n",
    "}"
   ]
  },
  {
   "cell_type": "markdown",
   "metadata": {},
   "source": [
    "When you finish using the block of memory, you should release it, so that the OS could allocate it for another processes."
   ]
  },
  {
   "cell_type": "code",
   "execution_count": 22,
   "metadata": {},
   "outputs": [],
   "source": [
    "delete[] allocatedArray;"
   ]
  },
  {
   "cell_type": "markdown",
   "metadata": {},
   "source": [
    "You can also allocate dynamically N-dimensional arrays. Supose you want to allocate a MxN array:"
   ]
  },
  {
   "cell_type": "code",
   "execution_count": 23,
   "metadata": {},
   "outputs": [],
   "source": [
    "int M = 248;\n",
    "N = 897;"
   ]
  },
  {
   "cell_type": "markdown",
   "metadata": {},
   "source": [
    "What you actually do is to create an array of pointers:"
   ]
  },
  {
   "cell_type": "code",
   "execution_count": 24,
   "metadata": {},
   "outputs": [],
   "source": [
    "double **allocatedMatrix = new double*[M];"
   ]
  },
  {
   "cell_type": "markdown",
   "metadata": {},
   "source": [
    "And then, in each position of that matrix, you must create an array of data (you can also initialize you array there):"
   ]
  },
  {
   "cell_type": "code",
   "execution_count": 25,
   "metadata": {},
   "outputs": [],
   "source": [
    "for(int i=0; i<M; i++){\n",
    "    allocatedMatrix[i] = new double[N];\n",
    "    for(int j=0; j<N; j++){\n",
    "        allocatedMatrix[i][j] = 0.0;\n",
    "    }\n",
    "}"
   ]
  },
  {
   "cell_type": "markdown",
   "metadata": {},
   "source": [
    "In this case, when you want to deallocate that array, what you should do is:"
   ]
  },
  {
   "cell_type": "code",
   "execution_count": 26,
   "metadata": {},
   "outputs": [],
   "source": [
    "for(int i=0; i<M; i++){\n",
    "    delete[] allocatedMatrix[i];\n",
    "}\n",
    "delete[] allocatedMatrix;"
   ]
  }
 ],
 "metadata": {
  "kernelspec": {
   "display_name": "C++14",
   "language": "C++14",
   "name": "xeus-cling-cpp14"
  },
  "language_info": {
   "codemirror_mode": "text/x-c++src",
   "file_extension": ".cpp",
   "mimetype": "text/x-c++src",
   "name": "c++",
   "version": "-std=c++14"
  }
 },
 "nbformat": 4,
 "nbformat_minor": 2
}
